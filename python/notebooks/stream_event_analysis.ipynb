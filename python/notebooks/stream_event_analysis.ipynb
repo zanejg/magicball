{
 "cells": [
  {
   "cell_type": "code",
   "execution_count": 28,
   "id": "e2ceacae",
   "metadata": {},
   "outputs": [],
   "source": [
    "from pymemcache.client import base\n",
    "import json"
   ]
  },
  {
   "cell_type": "code",
   "execution_count": 29,
   "id": "c688f257",
   "metadata": {},
   "outputs": [],
   "source": [
    "\n",
    "class AccelerometerStream():\n",
    "    def __init__(self):\n",
    "        self.memclient = base.Client((\"localhost\", 11211))\n",
    "        self.stream = []\n",
    "        \n",
    "        self.events = []\n",
    "        \n",
    "        \n",
    "\n",
    "    def get_stream_data(self,num,prefix = \"\"):\n",
    "        \"\"\"\n",
    "        Given num number of entries return num entries from\n",
    "        the memcached cache.\n",
    "        \"prefix\" is added for gyro data (=\"g\") instead of plain accel data\n",
    "        Returns a list of json objects that contain each axis of data.\n",
    "        eg {\"x\":0.123,\"y\":0.135,\"z\":0.321}\n",
    "        \n",
    "        \"\"\"\n",
    "        current_str = self.memclient.get(\"current\")\n",
    "        current = (int(current_str))\n",
    "        ret = []\n",
    "        for i in range(current-num,current):\n",
    "            ret.append(json.loads(self.memclient.get(f\"{prefix}{i}\")))\n",
    "        return ret\n",
    "        \n",
    "    "
   ]
  },
  {
   "cell_type": "code",
   "execution_count": 64,
   "id": "1b0ef043",
   "metadata": {},
   "outputs": [],
   "source": [
    "acc = AccelerometerStream()"
   ]
  },
  {
   "cell_type": "code",
   "execution_count": 65,
   "id": "a469eb9a",
   "metadata": {},
   "outputs": [],
   "source": [
    "strm = acc.get_stream_data(500,\"g\")\n"
   ]
  },
  {
   "cell_type": "code",
   "execution_count": 33,
   "id": "20a407c2",
   "metadata": {},
   "outputs": [],
   "source": [
    "sstrm = acc.get_stream_data(500,\"g\")"
   ]
  },
  {
   "cell_type": "code",
   "execution_count": 66,
   "id": "bc654fb3",
   "metadata": {},
   "outputs": [
    {
     "data": {
      "text/plain": [
       "[{'x': 32767, 'y': -7920, 'z': 2449, 'time': '2022-06-19T06:36:21.428963'},\n",
       " {'x': 32767, 'y': -7974, 'z': 2600, 'time': '2022-06-19T06:36:21.434963'},\n",
       " {'x': 32767, 'y': -7918, 'z': 2789, 'time': '2022-06-19T06:36:21.440945'},\n",
       " {'x': 32767, 'y': -7928, 'z': 2918, 'time': '2022-06-19T06:36:21.446933'},\n",
       " {'x': 32767, 'y': -7333, 'z': 2909, 'time': '2022-06-19T06:36:21.452962'}]"
      ]
     },
     "execution_count": 66,
     "metadata": {},
     "output_type": "execute_result"
    }
   ],
   "source": [
    "strm[20:25]"
   ]
  },
  {
   "cell_type": "code",
   "execution_count": 44,
   "id": "1800982a",
   "metadata": {},
   "outputs": [],
   "source": [
    "\n",
    "def get_events(strm,depth,dim):\n",
    "    \n",
    "    if depth > len(strm):\n",
    "        raise ValueError(\"Depth value cannot be greater then the length of the stream\")\n",
    "    if dim not in ['x','y','z']:\n",
    "        raise ValueError(\"Dimension must be x, y, or z\")\n",
    "\n",
    "    threshhold = 0.5\n",
    "    state = \"flat\"\n",
    "    state_set ={\"flat\",\"rising\",\"rising_edge\",\"lowering\",\"lowering_edge\"}\n",
    "    event_set = {\"rising_edge\",\"lowering_edge\",\"peaked\",\"troughed\",\"hi_pulse\",\"lo_pulse\"}\n",
    "    last_val = 0\n",
    "\n",
    "    events  =[]\n",
    "\n",
    "    dirmov = \"\"\n",
    "\n",
    "    for this_entry in strm[(depth*-1):]:\n",
    "        this_val = this_entry[dim]\n",
    "\n",
    "        if this_val > last_val:\n",
    "            dirmov = \"rising\"\n",
    "        if this_val < last_val:\n",
    "            dirmov  = \"lowering\"\n",
    "\n",
    "        if dirmov == \"rising\" and this_val > threshhold and state == \"flat\":\n",
    "            events.append({\"event\":\"rising_edge\",\n",
    "                          \"time\":this_entry[\"time\"]})\n",
    "            state = \"rising_edge\"\n",
    "        elif dirmov == \"lowering\" and this_val < (threshhold * -1) and state == \"flat\":\n",
    "            events.append({\"event\":\"lowering_edge\",\n",
    "                          \"time\":this_entry[\"time\"]})\n",
    "            state = \"lowering_edge\"\n",
    "\n",
    "        elif dirmov==\"lowering\" and state == \"rising_edge\":\n",
    "            events.append({\"event\":\"peaked\",\n",
    "                          \"time\":this_entry[\"time\"]})\n",
    "            state = \"peaked\"\n",
    "\n",
    "        elif dirmov==\"rising\" and state == \"lowering_edge\":\n",
    "            events.append({\"event\":\"troughed\",\n",
    "                          \"time\":this_entry[\"time\"]})\n",
    "            state = \"troughed\"\n",
    "\n",
    "        elif dirmov==\"lowering\" and state == \"peaked\" and this_val < threshhold/2:\n",
    "            events.append({\"event\":\"hi_pulse\",\n",
    "                          \"time\":this_entry[\"time\"]})\n",
    "            state = \"flat\"\n",
    "\n",
    "        elif dirmov==\"rising\" and state == \"troughed\" and this_val > (threshhold/2 *-1):\n",
    "            events.append({\"event\":\"lo_pulse\",\n",
    "                          \"time\":this_entry[\"time\"]})\n",
    "            state = \"flat\"\n",
    "\n",
    "        last_val = this_val\n",
    "    \n",
    "    return events\n",
    "\n",
    "    \n",
    "        \n",
    "    "
   ]
  },
  {
   "cell_type": "code",
   "execution_count": 45,
   "id": "f599bae6",
   "metadata": {},
   "outputs": [
    {
     "data": {
      "text/plain": [
       "[]"
      ]
     },
     "execution_count": 45,
     "metadata": {},
     "output_type": "execute_result"
    }
   ],
   "source": [
    "events"
   ]
  },
  {
   "cell_type": "code",
   "execution_count": 68,
   "id": "908a2781",
   "metadata": {},
   "outputs": [
    {
     "data": {
      "text/plain": [
       "[{'event': 'rising_edge', 'time': '2022-06-19T06:36:21.917298'},\n",
       " {'event': 'peaked', 'time': '2022-06-19T06:36:22.046762'},\n",
       " {'event': 'hi_pulse', 'time': '2022-06-19T06:36:22.085053'},\n",
       " {'event': 'lowering_edge', 'time': '2022-06-19T06:36:22.091418'},\n",
       " {'event': 'troughed', 'time': '2022-06-19T06:36:22.266853'},\n",
       " {'event': 'lo_pulse', 'time': '2022-06-19T06:36:22.304979'},\n",
       " {'event': 'rising_edge', 'time': '2022-06-19T06:36:22.311241'},\n",
       " {'event': 'peaked', 'time': '2022-06-19T06:36:22.399246'},\n",
       " {'event': 'hi_pulse', 'time': '2022-06-19T06:36:22.496815'},\n",
       " {'event': 'lowering_edge', 'time': '2022-06-19T06:36:22.502876'},\n",
       " {'event': 'troughed', 'time': '2022-06-19T06:36:22.580942'},\n",
       " {'event': 'lo_pulse', 'time': '2022-06-19T06:36:22.722503'},\n",
       " {'event': 'rising_edge', 'time': '2022-06-19T06:36:22.728509'},\n",
       " {'event': 'peaked', 'time': '2022-06-19T06:36:22.824715'},\n",
       " {'event': 'hi_pulse', 'time': '2022-06-19T06:36:23.021013'},\n",
       " {'event': 'lowering_edge', 'time': '2022-06-19T06:36:23.027008'},\n",
       " {'event': 'troughed', 'time': '2022-06-19T06:36:23.115241'},\n",
       " {'event': 'lo_pulse', 'time': '2022-06-19T06:36:23.199097'},\n",
       " {'event': 'rising_edge', 'time': '2022-06-19T06:36:23.205105'},\n",
       " {'event': 'peaked', 'time': '2022-06-19T06:36:23.229011'},\n",
       " {'event': 'hi_pulse', 'time': '2022-06-19T06:36:23.258921'},\n",
       " {'event': 'lowering_edge', 'time': '2022-06-19T06:36:23.264914'},\n",
       " {'event': 'troughed', 'time': '2022-06-19T06:36:23.310608'},\n",
       " {'event': 'lo_pulse', 'time': '2022-06-19T06:36:23.365144'},\n",
       " {'event': 'rising_edge', 'time': '2022-06-19T06:36:23.371147'},\n",
       " {'event': 'peaked', 'time': '2022-06-19T06:36:23.401215'},\n",
       " {'event': 'hi_pulse', 'time': '2022-06-19T06:36:23.492466'},\n",
       " {'event': 'lowering_edge', 'time': '2022-06-19T06:36:23.499530'},\n",
       " {'event': 'troughed', 'time': '2022-06-19T06:36:23.552563'},\n",
       " {'event': 'lo_pulse', 'time': '2022-06-19T06:36:23.610251'},\n",
       " {'event': 'rising_edge', 'time': '2022-06-19T06:36:23.616661'},\n",
       " {'event': 'peaked', 'time': '2022-06-19T06:36:23.648569'},\n",
       " {'event': 'hi_pulse', 'time': '2022-06-19T06:36:23.686797'},\n",
       " {'event': 'lowering_edge', 'time': '2022-06-19T06:36:23.693177'},\n",
       " {'event': 'troughed', 'time': '2022-06-19T06:36:23.741030'}]"
      ]
     },
     "execution_count": 68,
     "metadata": {},
     "output_type": "execute_result"
    }
   ],
   "source": [
    "get_events(strm,400,'x')\n",
    "\n"
   ]
  },
  {
   "cell_type": "code",
   "execution_count": 16,
   "id": "9246846d",
   "metadata": {},
   "outputs": [],
   "source": [
    "import matplotlib.pyplot as plt\n",
    "import numpy as np"
   ]
  },
  {
   "cell_type": "code",
   "execution_count": 69,
   "id": "fbffeb6c",
   "metadata": {},
   "outputs": [
    {
     "data": {
      "text/plain": [
       "[<matplotlib.lines.Line2D at 0x7f78a75760>]"
      ]
     },
     "execution_count": 69,
     "metadata": {},
     "output_type": "execute_result"
    },
    {
     "data": {
      "image/png": "[encoded data removed]",
      "text/plain": [
       "<Figure size 432x288 with 3 Axes>"
      ]
     },
     "metadata": {
      "needs_background": "light"
     },
     "output_type": "display_data"
    }
   ],
   "source": [
    "fig, ax = plt.subplots(3)\n",
    "t = [i for i in range(0,len(strm))]\n",
    "\n",
    "xd = [d['x'] for d in strm]\n",
    "yd = [d['y'] for d in strm]\n",
    "zd = [d['z'] for d in strm]\n",
    "ax[0].plot(t,xd)\n",
    "ax[1].plot(t,yd)\n",
    "ax[2].plot(t,zd)\n"
   ]
  },
  {
   "cell_type": "code",
   "execution_count": null,
   "id": "05d4fe52",
   "metadata": {},
   "outputs": [],
   "source": []
  }
 ],
 "metadata": {
  "kernelspec": {
   "display_name": "Python 3 (ipykernel)",
   "language": "python",
   "name": "python3"
  },
  "language_info": {
   "codemirror_mode": {
    "name": "ipython",
    "version": 3
   },
   "file_extension": ".py",
   "mimetype": "text/x-python",
   "name": "python",
   "nbconvert_exporter": "python",
   "pygments_lexer": "ipython3",
   "version": "3.9.2"
  }
 },
 "nbformat": 4,
 "nbformat_minor": 5
}
